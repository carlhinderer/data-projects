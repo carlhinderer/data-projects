{
 "cells": [
  {
   "cell_type": "markdown",
   "metadata": {},
   "source": [
    "## King County House Prices"
   ]
  },
  {
   "cell_type": "markdown",
   "metadata": {},
   "source": [
    "### Background"
   ]
  },
  {
   "cell_type": "markdown",
   "metadata": {},
   "source": [
    "This [dataset](http://www.kaggle.com/harlfoxem/housesalesprediction) of house sale prices in King County, Washington between May 2014 and May 2015 comes from [Kaggle](http://www.kaggle.com)."
   ]
  },
  {
   "cell_type": "markdown",
   "metadata": {},
   "source": [
    "From the Kaggle description, this dataset contains *19 house features plus the price and the id columns, along with 21613 observations*.\n",
    "\n",
    "Also from the Kaggle description, the features are described as:\n",
    "- **id** a notation for a house\n",
    "- **date** Date house was sold\n",
    "- **price** Price is prediction target\n",
    "- **bedrooms** Number of Bedrooms/House\n",
    "- **bathrooms** Number of bathrooms/House\n",
    "- **sqft_living** square footage of the home\n",
    "- **sqft_lot** square footage of the lot\n",
    "- **floors** Total floors (levels) in house\n",
    "- **waterfront** House which has a view to a waterfront\n",
    "- **view** Has been viewed\n",
    "- **condition** How good the condition is ( Overall )\n",
    "- **grade** overall grade given to the housing unit, based on King County grading system\n",
    "- **sqft_above** square footage of house apart from basement\n",
    "- **sqft_basement** square footage of the basement\n",
    "- **yr_built** Built Year\n",
    "- **yr_renovated** Year when house was renovated\n",
    "- **zipcode** zip\n",
    "- **lat** Latitude coordinate\n",
    "- **long** Longitude coordinate\n",
    "- **sqft_living15** Living room area in 2015(implies-- some renovations) This might or might not have affected the lotsize area\n",
    "- **sqft_lot15** lotSize area in 2015(implies-- some renovations)"
   ]
  },
  {
   "cell_type": "code",
   "execution_count": null,
   "metadata": {},
   "outputs": [],
   "source": []
  }
 ],
 "metadata": {
  "kernelspec": {
   "display_name": "Python 3",
   "language": "python",
   "name": "python3"
  },
  "language_info": {
   "codemirror_mode": {
    "name": "ipython",
    "version": 3
   },
   "file_extension": ".py",
   "mimetype": "text/x-python",
   "name": "python",
   "nbconvert_exporter": "python",
   "pygments_lexer": "ipython3",
   "version": "3.7.1"
  }
 },
 "nbformat": 4,
 "nbformat_minor": 2
}
